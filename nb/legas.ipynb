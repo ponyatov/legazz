{
 "cells": [
  {
   "cell_type": "markdown",
   "id": "6a5a38dd",
   "metadata": {},
   "source": [
    "# `legas`"
   ]
  },
  {
   "cell_type": "markdown",
   "id": "4a1bb815",
   "metadata": {},
   "source": [
    "## legacy analysis"
   ]
  },
  {
   "cell_type": "markdown",
   "id": "85a19c7c",
   "metadata": {},
   "source": [
    "(c) \"Dmitry Ponyatov <dponyatov@gmail.com>\" 2022 MIT"
   ]
  },
  {
   "cell_type": "markdown",
   "id": "bdc2aed0",
   "metadata": {},
   "source": [
    "github: https://github.com/ponyatov/legacy"
   ]
  },
  {
   "cell_type": "markdown",
   "id": "0ef2729f",
   "metadata": {},
   "source": [
    "### Jupyter Rust"
   ]
  },
  {
   "cell_type": "markdown",
   "id": "6f60e6b6",
   "metadata": {},
   "source": [
    "- https://depth-first.com/articles/2020/09/21/interactive-rust-in-a-repl-and-jupyter-notebook-with-evcxr/"
   ]
  },
  {
   "cell_type": "markdown",
   "id": "eccaca96",
   "metadata": {},
   "source": []
  }
 ],
 "metadata": {
  "kernelspec": {
   "display_name": "Rust",
   "language": "rust",
   "name": "rust"
  },
  "language_info": {
   "codemirror_mode": "rust",
   "file_extension": ".rs",
   "mimetype": "text/rust",
   "name": "Rust",
   "pygment_lexer": "rust",
   "version": ""
  }
 },
 "nbformat": 4,
 "nbformat_minor": 5
}
